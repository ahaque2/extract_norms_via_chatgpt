{
 "cells": [
  {
   "cell_type": "code",
   "execution_count": 1,
   "id": "d19a7e2a-8f17-4a5c-b64e-a4f28dd2adf1",
   "metadata": {
    "tags": []
   },
   "outputs": [],
   "source": [
    "import openai\n",
    "import os\n",
    "import pandas as pd\n",
    "# import time\n",
    "# import sys"
   ]
  },
  {
   "cell_type": "code",
   "execution_count": 2,
   "id": "fd264221-6984-4bb9-8922-c55e6f51a051",
   "metadata": {
    "tags": []
   },
   "outputs": [],
   "source": [
    "import os\n",
    "from openai import OpenAI\n",
    "\n",
    "client = OpenAI(api_key = 'your_api_key')"
   ]
  },
  {
   "cell_type": "code",
   "execution_count": 3,
   "id": "06bced39-0068-4741-af39-2f5425b20d1c",
   "metadata": {
    "tags": []
   },
   "outputs": [
    {
     "data": {
      "text/plain": [
       "(Index(['Unnamed: 0', 'sent'], dtype='object'), (100, 2))"
      ]
     },
     "execution_count": 3,
     "metadata": {},
     "output_type": "execute_result"
    }
   ],
   "source": [
    "samples = pd.read_csv('dataset/sample_100.csv')\n",
    "samples.columns, samples.shape"
   ]
  },
  {
   "cell_type": "code",
   "execution_count": 4,
   "id": "963ae21c-a036-4b0a-b566-27543ed7d527",
   "metadata": {
    "tags": []
   },
   "outputs": [],
   "source": [
    "prompt = open('prompts/prompt5.txt', 'r').read()\n",
    "chatgpt_out = []\n",
    "\n",
    "sent_ = samples.sent\n",
    "for s in sent_:\n",
    "\n",
    "    chat_completion = client.chat.completions.create(\n",
    "    messages=[\n",
    "        {\n",
    "            \"role\": \"user\",\n",
    "            \"content\": prompt + ' ' + s,\n",
    "        }\n",
    "    ],\n",
    "    temperature=0.0,\n",
    "    model=\"gpt-3.5-turbo\")\n",
    "\n",
    "    chatgpt_out.append(chat_completion.choices[0].message.content)"
   ]
  },
  {
   "cell_type": "code",
   "execution_count": 5,
   "id": "13c7d860-b786-44d6-8ff4-0ec4c623c839",
   "metadata": {
    "tags": []
   },
   "outputs": [],
   "source": [
    "samples['gpt_extracted_norms'] = chatgpt_out"
   ]
  },
  {
   "cell_type": "code",
   "execution_count": 6,
   "id": "10728e9e-035a-4681-a96d-b00fe875cb2c",
   "metadata": {},
   "outputs": [],
   "source": [
    "samples.to_csv('results/sample_100_results.csv')"
   ]
  }
 ],
 "metadata": {
  "kernelspec": {
   "display_name": "py3_10",
   "language": "python",
   "name": "py3_10"
  },
  "language_info": {
   "codemirror_mode": {
    "name": "ipython",
    "version": 3
   },
   "file_extension": ".py",
   "mimetype": "text/x-python",
   "name": "python",
   "nbconvert_exporter": "python",
   "pygments_lexer": "ipython3",
   "version": "3.10.6"
  }
 },
 "nbformat": 4,
 "nbformat_minor": 5
}
